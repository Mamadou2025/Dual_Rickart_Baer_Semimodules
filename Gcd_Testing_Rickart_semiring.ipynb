{
  "nbformat": 4,
  "nbformat_minor": 0,
  "metadata": {
    "colab": {
      "provenance": [],
      "authorship_tag": "ABX9TyNd4FzjZQYX3Q3CCzkYYnAY",
      "include_colab_link": true
    },
    "kernelspec": {
      "name": "python3",
      "display_name": "Python 3"
    },
    "language_info": {
      "name": "python"
    }
  },
  "cells": [
    {
      "cell_type": "markdown",
      "metadata": {
        "id": "view-in-github",
        "colab_type": "text"
      },
      "source": [
        "<a href=\"https://colab.research.google.com/github/Mamadou2025/Dual_Rickart_Baer_Semimodules/blob/main/Gcd_Testing_Rickart_semiring.ipynb\" target=\"_parent\"><img src=\"https://colab.research.google.com/assets/colab-badge.svg\" alt=\"Open In Colab\"/></a>"
      ]
    },
    {
      "cell_type": "code",
      "execution_count": 1,
      "metadata": {
        "colab": {
          "base_uri": "https://localhost:8080/"
        },
        "id": "Tt4PJrwoZOG7",
        "outputId": "5c25fa53-82c9-4bc1-d07e-f93c5718d0bd"
      },
      "outputs": [
        {
          "output_type": "stream",
          "name": "stdout",
          "text": [
            "Testing endomorphism semiring of M = [0, 1, 2]:\n",
            "S is i-Rickart.\n",
            "S is w-Rickart.\n"
          ]
        }
      ],
      "source": [
        "from itertools import product\n",
        "\n",
        "def is_endomorphism(f, M):\n",
        "    \"\"\"Checks if f preserves the gcd operation\"\"\"\n",
        "    for x, y in product(M, repeat=2):\n",
        "        if f[gcd(x, y)] != gcd(f[x], f[y]):\n",
        "            return False\n",
        "    return True\n",
        "\n",
        "def gcd(x, y):\n",
        "    \"\"\"Computes the GCD of x and y with gcd(0,0) = 0\"\"\"\n",
        "    while y != 0:\n",
        "        x, y = y, x % y\n",
        "    return abs(x) if x != 0 else 0\n",
        "\n",
        "def is_idempotent(f, M):\n",
        "    \"\"\"Checks if f ∘ f = f\"\"\"\n",
        "    for x in M:\n",
        "        if f[f[x]] != f[x]:\n",
        "            return False\n",
        "    return True\n",
        "\n",
        "def compose(f, f_i, M):\n",
        "    \"\"\"Compute composition f ∘ f_i\"\"\"\n",
        "    return tuple(sorted((x, f[f_i[x]]) for x in M))\n",
        "\n",
        "def subtractive_closure(S, M):\n",
        "    \"\"\"Compute subtractive closure Im_S(f)\"\"\"\n",
        "    Im_S_f = set()\n",
        "    for f_i in S:\n",
        "        for f_j in S:\n",
        "            for f_k in S:\n",
        "                if {x: gcd(f_i[x], f_j[x]) for x in M} == f_k:\n",
        "                    Im_S_f.add(tuple(sorted(f_k.items())))\n",
        "    return Im_S_f\n",
        "\n",
        "def is_i_rickart(S, M):\n",
        "    \"\"\"Check if S is i-Rickart\"\"\"\n",
        "    for f in S:\n",
        "        if is_idempotent(f, M):\n",
        "            f_composed = {compose(f, f_j, M) for f_j in S}\n",
        "            if f_composed == {tuple(sorted(f.items()))}:\n",
        "                return True\n",
        "    return False\n",
        "\n",
        "def is_w_rickart(S, M):\n",
        "    \"\"\"Check if S is w-Rickart\"\"\"\n",
        "    if is_i_rickart(S, M):\n",
        "        if {tuple(sorted(f.items())) for f in S} == subtractive_closure(S, M):\n",
        "            return True\n",
        "    return False\n",
        "\n",
        "def test_s_rickart(n):\n",
        "    M = list(range(n + 1))\n",
        "    S = []\n",
        "    for f_tuple in product(range(n + 1), repeat=n + 1):\n",
        "        f = {i: f_tuple[i] for i in M}\n",
        "        if is_endomorphism(f, M) and f[0] == 0:\n",
        "            S.append(f)\n",
        "\n",
        "    print(f\"Testing endomorphism semiring of M = {M}:\")\n",
        "\n",
        "    if is_i_rickart(S, M):\n",
        "        print(\"S is i-Rickart.\")\n",
        "        if is_w_rickart(S, M):\n",
        "            print(\"S is w-Rickart.\")\n",
        "        else:\n",
        "            print(\"S is not w-Rickart.\")\n",
        "    else:\n",
        "        print(\"S is not i-Rickart.\")\n",
        "\n",
        "# Test for M = {0, 1, 2, ..., n}\n",
        "n = 2  # You can change n to generate different sets\n",
        "test_s_rickart(n)\n"
      ]
    }
  ]
}